{
 "cells": [
  {
   "cell_type": "code",
   "execution_count": 1,
   "id": "029590cc",
   "metadata": {},
   "outputs": [],
   "source": [
    "import keras\n",
    "from keras.models import Sequential\n",
    "from keras.layers import Dense, Activation\n",
    "import numpy as np\n",
    "import matplotlib.pyplot as plt"
   ]
  },
  {
   "cell_type": "code",
   "execution_count": 2,
   "id": "41624823",
   "metadata": {},
   "outputs": [],
   "source": [
    "x = np.random.randn(100)\n",
    "y = x*3 + np.random.randn(100)*0.8"
   ]
  },
  {
   "cell_type": "code",
   "execution_count": 3,
   "id": "087979fb",
   "metadata": {},
   "outputs": [],
   "source": [
    "model = Sequential()\n",
    "model.add(Dense(4, input_dim = 1, activation = 'linear', name = 'layer_1'))\n",
    "model.add(Dense(1, activation = 'linear', name = 'layer_2'))\n",
    "model.compile(optimizer = 'sgd', loss = 'mse', metrics = ['mse'])"
   ]
  },
  {
   "cell_type": "code",
   "execution_count": 4,
   "id": "f149367a",
   "metadata": {},
   "outputs": [
    {
     "name": "stdout",
     "output_type": "stream",
     "text": [
      "Weights and biases of the layers before training the model: \n",
      "\n",
      "layer_1\n",
      "Weights\n",
      "Shape:  (1, 4) \n",
      " [[ 0.14969707 -0.5406176  -1.0826201   0.5004294 ]]\n",
      "Bias\n",
      "Shape:  (4,) \n",
      " [0. 0. 0. 0.] \n",
      "\n",
      "layer_2\n",
      "Weights\n",
      "Shape:  (4, 1) \n",
      " [[ 0.67811763]\n",
      " [ 0.40862834]\n",
      " [-0.6746179 ]\n",
      " [-1.0188361 ]]\n",
      "Bias\n",
      "Shape:  (1,) \n",
      " [0.] \n",
      "\n"
     ]
    }
   ],
   "source": [
    "print(\"Weights and biases of the layers before training the model: \\n\")\n",
    "for layer in model.layers:\n",
    "  print(layer.name)\n",
    "  print(\"Weights\")\n",
    "  print(\"Shape: \",layer.get_weights()[0].shape,'\\n',layer.get_weights()[0])\n",
    "  print(\"Bias\")\n",
    "  print(\"Shape: \",layer.get_weights()[1].shape,'\\n',layer.get_weights()[1],'\\n')"
   ]
  },
  {
   "cell_type": "code",
   "execution_count": 5,
   "id": "baa82b0f",
   "metadata": {},
   "outputs": [
    {
     "name": "stdout",
     "output_type": "stream",
     "text": [
      "Epoch 1/10\n",
      "100/100 [==============================] - 0s 2ms/step - loss: 1.1410 - mse: 1.1410\n",
      "Epoch 2/10\n",
      "100/100 [==============================] - 0s 1ms/step - loss: 0.6115 - mse: 0.6115\n",
      "Epoch 3/10\n",
      "100/100 [==============================] - 0s 1ms/step - loss: 0.6104 - mse: 0.6104\n",
      "Epoch 4/10\n",
      "100/100 [==============================] - 0s 1ms/step - loss: 0.6094 - mse: 0.6094\n",
      "Epoch 5/10\n",
      "100/100 [==============================] - 0s 1ms/step - loss: 0.6085 - mse: 0.6085\n",
      "Epoch 6/10\n",
      "100/100 [==============================] - 0s 1ms/step - loss: 0.6076 - mse: 0.6076\n",
      "Epoch 7/10\n",
      "100/100 [==============================] - 0s 1ms/step - loss: 0.6068 - mse: 0.6068\n",
      "Epoch 8/10\n",
      "100/100 [==============================] - 0s 2ms/step - loss: 0.6060 - mse: 0.6060A: 0s - loss: 0.6132 - mse: 0.61\n",
      "Epoch 9/10\n",
      "100/100 [==============================] - 0s 1ms/step - loss: 0.6053 - mse: 0.6053\n",
      "Epoch 10/10\n",
      "100/100 [==============================] - 0s 820us/step - loss: 0.6046 - mse: 0.6046\n"
     ]
    },
    {
     "data": {
      "text/plain": [
       "<tensorflow.python.keras.callbacks.History at 0x1bb8eab54c0>"
      ]
     },
     "execution_count": 5,
     "metadata": {},
     "output_type": "execute_result"
    }
   ],
   "source": [
    "model.fit(x,y, batch_size = 1, epochs = 10, shuffle = False)"
   ]
  },
  {
   "cell_type": "code",
   "execution_count": 6,
   "id": "5947faf7",
   "metadata": {},
   "outputs": [
    {
     "name": "stdout",
     "output_type": "stream",
     "text": [
      "Weights and biases of the layers after training the model: \n",
      "\n",
      "layer_1\n",
      "Weights\n",
      "Shape:  (1, 4) \n",
      " [[ 0.6415119  -0.31832042 -1.6815226  -0.15333296]]\n",
      "Bias\n",
      "Shape:  (4,) \n",
      " [ 0.01687507  0.02213602  0.00092501 -0.03911423] \n",
      "\n",
      "layer_2\n",
      "Weights\n",
      "Shape:  (4, 1) \n",
      " [[ 0.76597095]\n",
      " [ 0.05885675]\n",
      " [-1.358078  ]\n",
      " [-0.6877804 ]]\n",
      "Bias\n",
      "Shape:  (1,) \n",
      " [0.0236951] \n",
      "\n"
     ]
    }
   ],
   "source": [
    "print(\"Weights and biases of the layers after training the model: \\n\")\n",
    "for layer in model.layers:\n",
    "  print(layer.name)\n",
    "  print(\"Weights\")\n",
    "  print(\"Shape: \",layer.get_weights()[0].shape,'\\n',layer.get_weights()[0])\n",
    "  print(\"Bias\")\n",
    "  print(\"Shape: \",layer.get_weights()[1].shape,'\\n',layer.get_weights()[1],'\\n')"
   ]
  },
  {
   "cell_type": "code",
   "execution_count": 7,
   "id": "afead22f",
   "metadata": {},
   "outputs": [
    {
     "data": {
      "image/png": "[encoded data removed]",
      "text/plain": [
       "<Figure size 576x576 with 1 Axes>"
      ]
     },
     "metadata": {
      "needs_background": "light"
     },
     "output_type": "display_data"
    }
   ],
   "source": [
    "plt.figure(figsize = (8,8))\n",
    "plt.plot(x,y,'o',x,model.predict(x),'g')\n",
    "plt.show()"
   ]
  },
  {
   "cell_type": "code",
   "execution_count": 8,
   "id": "17c83acc",
   "metadata": {},
   "outputs": [],
   "source": [
    "# Setting new weights and biases\n",
    "for layer in model.layers:\n",
    "  a,b = layer.get_weights()[0].shape\n",
    "  layer.set_weights([np.random.randn(a,b), np.ones(layer.get_weights()[1].shape)])"
   ]
  },
  {
   "cell_type": "code",
   "execution_count": 9,
   "id": "566bdcc3",
   "metadata": {},
   "outputs": [],
   "source": [
    "a,b = layer.get_weights()[0].shape"
   ]
  },
  {
   "cell_type": "code",
   "execution_count": 11,
   "id": "a240d4df",
   "metadata": {},
   "outputs": [
    {
     "name": "stdout",
     "output_type": "stream",
     "text": [
      "Weights and biases of the layers after setting the new weights and biases: \n",
      "\n",
      "layer_1\n",
      "Weights\n",
      "Shape:  (1, 4) \n",
      " [[ 0.05904043 -1.1113248   0.02309927 -2.2187214 ]]\n",
      "Bias\n",
      "Shape:  (4,) \n",
      " [1. 1. 1. 1.] \n",
      "\n",
      "layer_2\n",
      "Weights\n",
      "Shape:  (4, 1) \n",
      " [[ 0.22831059]\n",
      " [ 0.12154667]\n",
      " [ 0.20829311]\n",
      " [-1.376837  ]]\n",
      "Bias\n",
      "Shape:  (1,) \n",
      " [1.] \n",
      "\n"
     ]
    }
   ],
   "source": [
    "print(\"Weights and biases of the layers after setting the new weights and biases: \\n\")\n",
    "for layer in model.layers:\n",
    "  print(layer.name)\n",
    "  print(\"Weights\")\n",
    "  print(\"Shape: \",layer.get_weights()[0].shape,'\\n',layer.get_weights()[0])\n",
    "  print(\"Bias\")\n",
    "  print(\"Shape: \",layer.get_weights()[1].shape,'\\n',layer.get_weights()[1],'\\n')"
   ]
  },
  {
   "cell_type": "code",
   "execution_count": 12,
   "id": "8a2ae26c",
   "metadata": {},
   "outputs": [
    {
     "name": "stdout",
     "output_type": "stream",
     "text": [
      "Epoch 1/10\n",
      "  1/100 [..............................] - ETA: 0s - loss: 2.3657 - mse: 2.3657WARNING:tensorflow:Callbacks method `on_train_batch_end` is slow compared to the batch time (batch time: 0.0000s vs `on_train_batch_end` time: 0.0010s). Check your callbacks.\n",
      "100/100 [==============================] - 0s 1ms/step - loss: 0.6548 - mse: 0.6548\n",
      "Epoch 2/10\n",
      "100/100 [==============================] - 0s 1ms/step - loss: 0.6503 - mse: 0.6503\n",
      "Epoch 3/10\n",
      "100/100 [==============================] - 0s 1ms/step - loss: 0.6476 - mse: 0.6476\n",
      "Epoch 4/10\n",
      "100/100 [==============================] - 0s 1ms/step - loss: 0.6450 - mse: 0.6450\n",
      "Epoch 5/10\n",
      "100/100 [==============================] - 0s 1ms/step - loss: 0.6427 - mse: 0.6427\n",
      "Epoch 6/10\n",
      "100/100 [==============================] - 0s 1ms/step - loss: 0.6405 - mse: 0.6405\n",
      "Epoch 7/10\n",
      "100/100 [==============================] - 0s 1ms/step - loss: 0.6384 - mse: 0.6384\n",
      "Epoch 8/10\n",
      "100/100 [==============================] - 0s 1ms/step - loss: 0.6364 - mse: 0.6364\n",
      "Epoch 9/10\n",
      "100/100 [==============================] - 0s 1ms/step - loss: 0.6346 - mse: 0.6346\n",
      "Epoch 10/10\n",
      "100/100 [==============================] - 0s 1ms/step - loss: 0.6328 - mse: 0.6328\n"
     ]
    },
    {
     "data": {
      "text/plain": [
       "<tensorflow.python.keras.callbacks.History at 0x1bb8fc4d6d0>"
      ]
     },
     "execution_count": 12,
     "metadata": {},
     "output_type": "execute_result"
    }
   ],
   "source": [
    "model.fit(x,y, batch_size = 1, epochs = 10, shuffle = False)"
   ]
  },
  {
   "cell_type": "code",
   "execution_count": 13,
   "id": "c8d44511",
   "metadata": {},
   "outputs": [
    {
     "name": "stdout",
     "output_type": "stream",
     "text": [
      "Weights and biases of the layers after training the model with new weights and biases: \n",
      "\n",
      "layer_1\n",
      "Weights\n",
      "Shape:  (1, 4) \n",
      " [[ 0.0578849  -0.9950231   0.02399831 -2.120886  ]]\n",
      "Bias\n",
      "Shape:  (4,) \n",
      " [0.87595886 0.83460516 0.8751182  0.8313379 ] \n",
      "\n",
      "layer_2\n",
      "Weights\n",
      "Shape:  (4, 1) \n",
      " [[ 0.15900266]\n",
      " [-0.03227551]\n",
      " [ 0.1399973 ]\n",
      " [-1.3094672 ]]\n",
      "Bias\n",
      "Shape:  (1,) \n",
      " [0.96909755] \n",
      "\n"
     ]
    }
   ],
   "source": [
    "print(\"Weights and biases of the layers after training the model with new weights and biases: \\n\")\n",
    "for layer in model.layers:\n",
    "  print(layer.name)\n",
    "  print(\"Weights\")\n",
    "  print(\"Shape: \",layer.get_weights()[0].shape,'\\n',layer.get_weights()[0])\n",
    "  print(\"Bias\")\n",
    "  print(\"Shape: \",layer.get_weights()[1].shape,'\\n',layer.get_weights()[1],'\\n')"
   ]
  },
  {
   "cell_type": "code",
   "execution_count": 14,
   "id": "502416d8",
   "metadata": {},
   "outputs": [
    {
     "data": {
      "image/png": "[encoded data removed]",
      "text/plain": [
       "<Figure size 576x576 with 1 Axes>"
      ]
     },
     "metadata": {
      "needs_background": "light"
     },
     "output_type": "display_data"
    }
   ],
   "source": [
    "plt.figure(figsize = (8,8))\n",
    "plt.plot(x,y,'o',x,model.predict(x),'g')\n",
    "plt.show()"
   ]
  },
  {
   "cell_type": "code",
   "execution_count": null,
   "id": "f17ec467",
   "metadata": {},
   "outputs": [],
   "source": [
    "\n",
    "import numpy as np\n",
    "import pickle \n",
    "#####################################################################\n",
    "print(\"Gunjan Kumar\")\n",
    "\n",
    "#/Data/Gunjan/img_resized\n",
    "import os\n",
    "import cv2\n",
    "import numpy as np\n",
    "import pandas as pd \n",
    "#image_read = []\n",
    "import pandas as pd\n",
    "test_id =  pd.read_csv('/Data/Gunjan/splits/test_ids.txt', names=['ids'])\n",
    "data = pd.read_csv(\"/Data/Gunjan/MMHS150K_GT.csv\")\n",
    "id=data.id\n",
    "if test_id == id:\n",
    "    print(labels)\n",
    "\n",
    "\n",
    "import pandas as pd\n",
    "test_id =  pd.read_csv('/Data/Gunjan/splits/test_ids.txt', names=['ids'])\n",
    "\n",
    "#test_id = test_id.head(100)\n",
    "\n",
    "import os\n",
    "import cv2\n",
    "import numpy as np\n",
    "image_read = []\n",
    "for imageid in test_id['ids']:\n",
    "    #print(imageid)\n",
    "    image_path= os.path.join(\"/Data/Gunjan/img_resized/\", str(imageid) + \".jpg\")\n",
    "    #image_path= os.path.join(str(imageid) + \".jpg\")\n",
    "    print(image_path)\n",
    "    image_pixel = cv2.imread(image_path)\n",
    "    #image_resize = cv2.resize(image_pixel, (224, 224))\n",
    "    image_read.append(image_pixel)\n",
    "image_array = np.asarray(image_read)\n",
    "\n",
    "image_array.shape\n",
    "\n",
    "image_array[3].shape\n",
    "\n",
    "\n",
    "\n",
    "\n",
    "\n",
    "import numpy as np\n",
    "import pickle \n",
    "pickle.dump(image_array, open(\"test_image.pkl\", \"wb\"))\n",
    "\n",
    "print (pickle.load(open(\"test_image.pkl\",'rb')))\n",
    "\n"
   ]
  }
 ],
 "metadata": {
  "kernelspec": {
   "display_name": "Python 3",
   "language": "python",
   "name": "python3"
  },
  "language_info": {
   "codemirror_mode": {
    "name": "ipython",
    "version": 3
   },
   "file_extension": ".py",
   "mimetype": "text/x-python",
   "name": "python",
   "nbconvert_exporter": "python",
   "pygments_lexer": "ipython3",
   "version": "3.8.10"
  },
  "varInspector": {
   "cols": {
    "lenName": 16,
    "lenType": 16,
    "lenVar": 40
   },
   "kernels_config": {
    "python": {
     "delete_cmd_postfix": "",
     "delete_cmd_prefix": "del ",
     "library": "var_list.py",
     "varRefreshCmd": "print(var_dic_list())"
    },
    "r": {
     "delete_cmd_postfix": ") ",
     "delete_cmd_prefix": "rm(",
     "library": "var_list.r",
     "varRefreshCmd": "cat(var_dic_list()) "
    }
   },
   "types_to_exclude": [
    "module",
    "function",
    "builtin_function_or_method",
    "instance",
    "_Feature"
   ],
   "window_display": false
  }
 },
 "nbformat": 4,
 "nbformat_minor": 5
}
